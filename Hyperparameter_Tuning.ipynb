{
  "nbformat": 4,
  "nbformat_minor": 0,
  "metadata": {
    "colab": {
      "name": "Hyperparameter Tuning.ipynb",
      "provenance": [],
      "collapsed_sections": []
    },
    "kernelspec": {
      "name": "python3",
      "display_name": "Python 3"
    }
  },
  "cells": [
    {
      "cell_type": "code",
      "metadata": {
        "id": "LSM3GeSLaiBQ"
      },
      "source": [
        "import pandas as pd\n",
        "import numpy as np\n",
        "\n"
      ],
      "execution_count": 1,
      "outputs": []
    },
    {
      "cell_type": "code",
      "metadata": {
        "id": "BUtvZPLI_Oql",
        "outputId": "4af295e6-14dd-4ab1-dace-1d28ee8f8860",
        "colab": {
          "base_uri": "https://localhost:8080/",
          "height": 204
        }
      },
      "source": [
        "## read the data set\n",
        "df=pd.read_csv(\"Advertising_data.csv\")\n",
        "df.head()"
      ],
      "execution_count": 2,
      "outputs": [
        {
          "output_type": "execute_result",
          "data": {
            "text/html": [
              "<div>\n",
              "<style scoped>\n",
              "    .dataframe tbody tr th:only-of-type {\n",
              "        vertical-align: middle;\n",
              "    }\n",
              "\n",
              "    .dataframe tbody tr th {\n",
              "        vertical-align: top;\n",
              "    }\n",
              "\n",
              "    .dataframe thead th {\n",
              "        text-align: right;\n",
              "    }\n",
              "</style>\n",
              "<table border=\"1\" class=\"dataframe\">\n",
              "  <thead>\n",
              "    <tr style=\"text-align: right;\">\n",
              "      <th></th>\n",
              "      <th>User ID</th>\n",
              "      <th>Gender</th>\n",
              "      <th>Age</th>\n",
              "      <th>EstimatedSalary</th>\n",
              "      <th>Purchased</th>\n",
              "    </tr>\n",
              "  </thead>\n",
              "  <tbody>\n",
              "    <tr>\n",
              "      <th>0</th>\n",
              "      <td>15624510</td>\n",
              "      <td>Male</td>\n",
              "      <td>19.0</td>\n",
              "      <td>19000.0</td>\n",
              "      <td>0</td>\n",
              "    </tr>\n",
              "    <tr>\n",
              "      <th>1</th>\n",
              "      <td>15810944</td>\n",
              "      <td>Male</td>\n",
              "      <td>35.0</td>\n",
              "      <td>20000.0</td>\n",
              "      <td>0</td>\n",
              "    </tr>\n",
              "    <tr>\n",
              "      <th>2</th>\n",
              "      <td>15668575</td>\n",
              "      <td>Female</td>\n",
              "      <td>26.0</td>\n",
              "      <td>43000.0</td>\n",
              "      <td>0</td>\n",
              "    </tr>\n",
              "    <tr>\n",
              "      <th>3</th>\n",
              "      <td>15603246</td>\n",
              "      <td>Female</td>\n",
              "      <td>27.0</td>\n",
              "      <td>57000.0</td>\n",
              "      <td>0</td>\n",
              "    </tr>\n",
              "    <tr>\n",
              "      <th>4</th>\n",
              "      <td>15804002</td>\n",
              "      <td>Male</td>\n",
              "      <td>19.0</td>\n",
              "      <td>76000.0</td>\n",
              "      <td>0</td>\n",
              "    </tr>\n",
              "  </tbody>\n",
              "</table>\n",
              "</div>"
            ],
            "text/plain": [
              "    User ID  Gender   Age  EstimatedSalary  Purchased\n",
              "0  15624510    Male  19.0          19000.0          0\n",
              "1  15810944    Male  35.0          20000.0          0\n",
              "2  15668575  Female  26.0          43000.0          0\n",
              "3  15603246  Female  27.0          57000.0          0\n",
              "4  15804002    Male  19.0          76000.0          0"
            ]
          },
          "metadata": {
            "tags": []
          },
          "execution_count": 2
        }
      ]
    },
    {
      "cell_type": "code",
      "metadata": {
        "id": "F8_sjkY3_Pix",
        "outputId": "24bb2a27-8dcc-4e75-ce44-781ff0620cef",
        "colab": {
          "base_uri": "https://localhost:8080/",
          "height": 221
        }
      },
      "source": [
        "X=df.iloc[:,[2,3]]\n",
        "y=df.iloc[:,4]\n",
        "print(X.head())\n",
        "print(y.head())"
      ],
      "execution_count": 3,
      "outputs": [
        {
          "output_type": "stream",
          "text": [
            "    Age  EstimatedSalary\n",
            "0  19.0          19000.0\n",
            "1  35.0          20000.0\n",
            "2  26.0          43000.0\n",
            "3  27.0          57000.0\n",
            "4  19.0          76000.0\n",
            "0    0\n",
            "1    0\n",
            "2    0\n",
            "3    0\n",
            "4    0\n",
            "Name: Purchased, dtype: int64\n"
          ],
          "name": "stdout"
        }
      ]
    },
    {
      "cell_type": "code",
      "metadata": {
        "id": "mRaIu6CtAk6X"
      },
      "source": [
        "from sklearn.model_selection import train_test_split\n"
      ],
      "execution_count": 4,
      "outputs": []
    },
    {
      "cell_type": "code",
      "metadata": {
        "id": "zo4DkuKl_P28"
      },
      "source": [
        "## Hyperparameter using the  GridSearchCV\n",
        "## Spliting the data into the train and test\n",
        "\n",
        "X_train, X_test, y_train, y_test = train_test_split(X, y, test_size=0.25, random_state=5)"
      ],
      "execution_count": 5,
      "outputs": []
    },
    {
      "cell_type": "code",
      "metadata": {
        "id": "xCdcxLDT_P7q"
      },
      "source": [
        "## feature Scaling \n",
        "from sklearn.preprocessing import StandardScaler\n",
        "sc=StandardScaler()\n",
        "X_train=sc.fit_transform(X_train)\n",
        "X_test=sc.transform(X_test)\n"
      ],
      "execution_count": 6,
      "outputs": []
    },
    {
      "cell_type": "code",
      "metadata": {
        "id": "s_LvMFfX_P02",
        "outputId": "dd018d2e-6e79-4122-853a-4f1a0b34d6f1",
        "colab": {
          "base_uri": "https://localhost:8080/",
          "height": 85
        }
      },
      "source": [
        "# X_train ## the SCaled down values\n",
        "\n",
        "from sklearn.svm import SVC\n",
        "classifer=SVC(kernel='linear',random_state=0)\n",
        "classifer.fit(X_train,y_train)\n"
      ],
      "execution_count": 7,
      "outputs": [
        {
          "output_type": "execute_result",
          "data": {
            "text/plain": [
              "SVC(C=1.0, break_ties=False, cache_size=200, class_weight=None, coef0=0.0,\n",
              "    decision_function_shape='ovr', degree=3, gamma='scale', kernel='linear',\n",
              "    max_iter=-1, probability=False, random_state=0, shrinking=True, tol=0.001,\n",
              "    verbose=False)"
            ]
          },
          "metadata": {
            "tags": []
          },
          "execution_count": 7
        }
      ]
    },
    {
      "cell_type": "code",
      "metadata": {
        "id": "8HDUD2A9_PyK"
      },
      "source": [
        "y_pred=classifer.predict(X_test)"
      ],
      "execution_count": 8,
      "outputs": []
    },
    {
      "cell_type": "code",
      "metadata": {
        "id": "mWr4rywr_Pv4",
        "outputId": "9604eb05-cf94-4115-c083-d0f2eb20b964",
        "colab": {
          "base_uri": "https://localhost:8080/",
          "height": 34
        }
      },
      "source": [
        "### check the accuracy with the above parameter\n",
        "from sklearn.metrics import accuracy_score\n",
        "ac=accuracy_score(y_test,y_pred)\n",
        "ac ## It will give the accuracy value for above aparameter\n",
        "\n",
        "\n",
        "## Now the questions come here , that how we can increase this accuracy. What are the parameters we can take to increase the accuarcy.\n",
        "## Because in the reail scenario we have to find the best acouray for optimal parameter.\n",
        "## 1. GridSearchCV\n",
        "## 2. RandomSearchCV\n"
      ],
      "execution_count": 9,
      "outputs": [
        {
          "output_type": "execute_result",
          "data": {
            "text/plain": [
              "0.85"
            ]
          },
          "metadata": {
            "tags": []
          },
          "execution_count": 9
        }
      ]
    },
    {
      "cell_type": "code",
      "metadata": {
        "id": "i6ANjxs__Ptv"
      },
      "source": [
        "## HyperParameter tuning\n",
        "from sklearn.model_selection import GridSearchCV\n",
        "\n",
        "paramaters=[{'C':[1,10,100,1000],'kernel':['linear']},\n",
        "            {'C':[1,10,100,100],'kernel':['rbf'],'gamma':[0.1,0.2,0.3,0.4,0.5,0.6,0.7,0.8,0.9]}]\n",
        "\n",
        "grid_search=GridSearchCV(estimator=classifer,\n",
        "                         param_grid=paramaters,\n",
        "                         scoring='accuracy',\n",
        "                         cv=10,\n",
        "                         n_jobs=-1)\n",
        "              \n",
        "grid_search=grid_search.fit(X_train,y_train)\n"
      ],
      "execution_count": 10,
      "outputs": []
    },
    {
      "cell_type": "code",
      "metadata": {
        "id": "0YGkf9ce_PsK",
        "outputId": "76195ceb-2bdb-4113-e5cd-5e2aaaa28c45",
        "colab": {
          "base_uri": "https://localhost:8080/",
          "height": 34
        }
      },
      "source": [
        "grid_search.best_score_  ## It will give you the best score"
      ],
      "execution_count": 11,
      "outputs": [
        {
          "output_type": "execute_result",
          "data": {
            "text/plain": [
              "0.9100000000000001"
            ]
          },
          "metadata": {
            "tags": []
          },
          "execution_count": 11
        }
      ]
    },
    {
      "cell_type": "code",
      "metadata": {
        "id": "_hLA4kKx_Pqj",
        "outputId": "5a4fe0c8-cdd8-4f71-bc95-bae3c0aad96e",
        "colab": {
          "base_uri": "https://localhost:8080/",
          "height": 34
        }
      },
      "source": [
        "grid_search.best_params_ ## It will give the best paramater"
      ],
      "execution_count": 12,
      "outputs": [
        {
          "output_type": "execute_result",
          "data": {
            "text/plain": [
              "{'C': 10, 'gamma': 0.3, 'kernel': 'rbf'}"
            ]
          },
          "metadata": {
            "tags": []
          },
          "execution_count": 12
        }
      ]
    },
    {
      "cell_type": "code",
      "metadata": {
        "id": "UHb9aWus_PpA",
        "outputId": "09c49c42-24ec-4ddd-f65f-e446b61144da",
        "colab": {
          "base_uri": "https://localhost:8080/",
          "height": 85
        }
      },
      "source": [
        "## Now check the Accuracy of the SVM with the hyperparameter what we got above using the GridSearchCV\n",
        "classifer_hyper=SVC(C=10,gamma=0.3,kernel='rbf',random_state=0)\n",
        "classifer_hyper.fit(X_train,y_train)"
      ],
      "execution_count": 13,
      "outputs": [
        {
          "output_type": "execute_result",
          "data": {
            "text/plain": [
              "SVC(C=10, break_ties=False, cache_size=200, class_weight=None, coef0=0.0,\n",
              "    decision_function_shape='ovr', degree=3, gamma=0.3, kernel='rbf',\n",
              "    max_iter=-1, probability=False, random_state=0, shrinking=True, tol=0.001,\n",
              "    verbose=False)"
            ]
          },
          "metadata": {
            "tags": []
          },
          "execution_count": 13
        }
      ]
    },
    {
      "cell_type": "code",
      "metadata": {
        "id": "saqKdGn6_PnY",
        "outputId": "566b6d2c-75b8-4150-c1c5-64364647af8e",
        "colab": {
          "base_uri": "https://localhost:8080/",
          "height": 51
        }
      },
      "source": [
        "y_pred_hyper=classifer_hyper.predict(X_test)\n",
        "\n",
        "ac_hyper=accuracy_score(y_test,y_pred_hyper)\n",
        "print(\"The Accuracy after the hyperparameter tuning\",ac_hyper)\n",
        "print(\"The Accuracy before the hyperparameter tuning\",ac)"
      ],
      "execution_count": 14,
      "outputs": [
        {
          "output_type": "stream",
          "text": [
            "The Accuracy after the hyperparameter tuning 0.93\n",
            "The Accuracy before the hyperparameter tuning 0.85\n"
          ],
          "name": "stdout"
        }
      ]
    },
    {
      "cell_type": "code",
      "metadata": {
        "id": "mY-3u9fbIzeV"
      },
      "source": [
        "## RandomizedSearchCV\n",
        "## it is bit fater than GridSearchCV\n"
      ],
      "execution_count": 15,
      "outputs": []
    },
    {
      "cell_type": "code",
      "metadata": {
        "id": "G8PvqXV3IzcE"
      },
      "source": [
        "from sklearn.model_selection import RandomizedSearchCV\n",
        "from sklearn.ensemble import RandomForestClassifier"
      ],
      "execution_count": 16,
      "outputs": []
    },
    {
      "cell_type": "code",
      "metadata": {
        "id": "yjreayJKIzad",
        "outputId": "8348c7ad-534a-4446-8013-1e08df8dd1e5",
        "colab": {
          "base_uri": "https://localhost:8080/",
          "height": 153
        }
      },
      "source": [
        "random_classifier=RandomForestClassifier(n_estimators=10,criterion='entropy',random_state=50)\n",
        "random_classifier.fit(X_train,y_train)"
      ],
      "execution_count": 17,
      "outputs": [
        {
          "output_type": "execute_result",
          "data": {
            "text/plain": [
              "RandomForestClassifier(bootstrap=True, ccp_alpha=0.0, class_weight=None,\n",
              "                       criterion='entropy', max_depth=None, max_features='auto',\n",
              "                       max_leaf_nodes=None, max_samples=None,\n",
              "                       min_impurity_decrease=0.0, min_impurity_split=None,\n",
              "                       min_samples_leaf=1, min_samples_split=2,\n",
              "                       min_weight_fraction_leaf=0.0, n_estimators=10,\n",
              "                       n_jobs=None, oob_score=False, random_state=50, verbose=0,\n",
              "                       warm_start=False)"
            ]
          },
          "metadata": {
            "tags": []
          },
          "execution_count": 17
        }
      ]
    },
    {
      "cell_type": "code",
      "metadata": {
        "id": "0rgIp3vaIzYH"
      },
      "source": [
        "y_pred_rnd=random_classifier.predict(X_test)"
      ],
      "execution_count": 25,
      "outputs": []
    },
    {
      "cell_type": "code",
      "metadata": {
        "id": "zhNE7Gh5IzWr",
        "outputId": "ba4f044f-e37a-4da4-8830-48b87e657f2c",
        "colab": {
          "base_uri": "https://localhost:8080/",
          "height": 34
        }
      },
      "source": [
        "ac_rand=accuracy_score(y_test,y_pred_rnd) ## the accuracy with the random forest classifier\n",
        "ac_rand"
      ],
      "execution_count": 28,
      "outputs": [
        {
          "output_type": "execute_result",
          "data": {
            "text/plain": [
              "0.87"
            ]
          },
          "metadata": {
            "tags": []
          },
          "execution_count": 28
        }
      ]
    },
    {
      "cell_type": "code",
      "metadata": {
        "id": "MTnKE95tIzUN"
      },
      "source": [
        "## hyperparameter tuning\n",
        "from scipy.stats import randint\n",
        "est=RandomForestClassifier(n_jobs=-1)\n",
        "rf_param_dist={\"max_depth\":[3,5,10,None],\n",
        "               'n_estimators':[10,100,200,300,400,500],\n",
        "               'max_features':randint(1,3),\n",
        "               'criterion':['gini','entropy'],\n",
        "               'bootstrap':[True,False],\n",
        "               'min_samples_leaf':randint(1,4)}\n",
        "\n",
        "def hypertuning_rscv(est,p_dist,nbr_iter,X,y):\n",
        "   rdmsearch=RandomizedSearchCV(est,param_distributions=p_dist,n_jobs=-1,n_iter=nbr_iter,cv=9)\n",
        "   rdmsearch.fit(X,y)\n",
        "   ht_params=rdmsearch.best_params_\n",
        "   ht_score=rdmsearch.best_score_\n",
        "   return ht_params,ht_score\n",
        "\n"
      ],
      "execution_count": 38,
      "outputs": []
    },
    {
      "cell_type": "code",
      "metadata": {
        "id": "bUVTQr4zIzR8"
      },
      "source": [
        "ht_params_res,ht_score_res=hypertuning_rscv(est,rf_param_dist,40,X,y)"
      ],
      "execution_count": 39,
      "outputs": []
    },
    {
      "cell_type": "code",
      "metadata": {
        "id": "cJdTdWU_IzQG",
        "outputId": "0bc2c3e2-4e3f-4786-901f-2588a02c62aa",
        "colab": {
          "base_uri": "https://localhost:8080/",
          "height": 119
        }
      },
      "source": [
        "ht_params_res"
      ],
      "execution_count": 40,
      "outputs": [
        {
          "output_type": "execute_result",
          "data": {
            "text/plain": [
              "{'bootstrap': True,\n",
              " 'criterion': 'entropy',\n",
              " 'max_depth': 10,\n",
              " 'max_features': 2,\n",
              " 'min_samples_leaf': 3,\n",
              " 'n_estimators': 200}"
            ]
          },
          "metadata": {
            "tags": []
          },
          "execution_count": 40
        }
      ]
    },
    {
      "cell_type": "code",
      "metadata": {
        "id": "D2olvKP8FNpO",
        "outputId": "1a97a776-dcbc-4311-e787-f7207b61abdf",
        "colab": {
          "base_uri": "https://localhost:8080/",
          "height": 34
        }
      },
      "source": [
        "ht_score_res"
      ],
      "execution_count": 41,
      "outputs": [
        {
          "output_type": "execute_result",
          "data": {
            "text/plain": [
              "0.9120650953984286"
            ]
          },
          "metadata": {
            "tags": []
          },
          "execution_count": 41
        }
      ]
    },
    {
      "cell_type": "code",
      "metadata": {
        "id": "28I90AnQFNnT",
        "outputId": "4d553c33-8ac5-4c01-9a83-ad2b6a5eb67d",
        "colab": {
          "base_uri": "https://localhost:8080/",
          "height": 153
        }
      },
      "source": [
        "random_classifier=RandomForestClassifier(n_estimators=200,bootstrap=True,criterion='entropy',random_state=42,max_depth=10,max_features=2,min_samples_leaf=3)\n",
        "random_classifier.fit(X_train,y_train)"
      ],
      "execution_count": 49,
      "outputs": [
        {
          "output_type": "execute_result",
          "data": {
            "text/plain": [
              "RandomForestClassifier(bootstrap=True, ccp_alpha=0.0, class_weight=None,\n",
              "                       criterion='entropy', max_depth=10, max_features=2,\n",
              "                       max_leaf_nodes=None, max_samples=None,\n",
              "                       min_impurity_decrease=0.0, min_impurity_split=None,\n",
              "                       min_samples_leaf=3, min_samples_split=2,\n",
              "                       min_weight_fraction_leaf=0.0, n_estimators=200,\n",
              "                       n_jobs=None, oob_score=False, random_state=42, verbose=0,\n",
              "                       warm_start=False)"
            ]
          },
          "metadata": {
            "tags": []
          },
          "execution_count": 49
        }
      ]
    },
    {
      "cell_type": "code",
      "metadata": {
        "id": "LZCzbfAvFNlV"
      },
      "source": [
        "y_pred_hp_rand=random_classifier.predict(X_test)"
      ],
      "execution_count": 50,
      "outputs": []
    },
    {
      "cell_type": "code",
      "metadata": {
        "id": "npNGvjdZFNjo",
        "outputId": "c2dfded7-3dcf-4067-abb1-f310f33058bc",
        "colab": {
          "base_uri": "https://localhost:8080/",
          "height": 34
        }
      },
      "source": [
        "ac_rand=accuracy_score(y_test,y_pred_hp_rand) ## the accuracy with the random forest classifier\n",
        "ac_rand ## Accuracy after hypertuning"
      ],
      "execution_count": 51,
      "outputs": [
        {
          "output_type": "execute_result",
          "data": {
            "text/plain": [
              "0.89"
            ]
          },
          "metadata": {
            "tags": []
          },
          "execution_count": 51
        }
      ]
    },
    {
      "cell_type": "code",
      "metadata": {
        "id": "nMznFYCmFNh9"
      },
      "source": [
        ""
      ],
      "execution_count": null,
      "outputs": []
    },
    {
      "cell_type": "code",
      "metadata": {
        "id": "kVHTea6YFNfh"
      },
      "source": [
        ""
      ],
      "execution_count": null,
      "outputs": []
    },
    {
      "cell_type": "code",
      "metadata": {
        "id": "7IL79rmeFNbf"
      },
      "source": [
        ""
      ],
      "execution_count": null,
      "outputs": []
    },
    {
      "cell_type": "code",
      "metadata": {
        "id": "fDDw73ByIzMT"
      },
      "source": [
        ""
      ],
      "execution_count": 17,
      "outputs": []
    },
    {
      "cell_type": "code",
      "metadata": {
        "id": "oM1rB11elG5K"
      },
      "source": [
        "initial_data = {'First_name': ['Ram', 'Mohan', 'Tina', 'Jeetu', 'Meera'],  \n",
        "        'Last_name': ['Kumar', 'Sharma', 'Ali', 'Gandhi', 'Kumari'],  \n",
        "        'Age': [42, 52, 36, 21, 23],  \n",
        "        'City': ['Mumbai', 'Noida', 'Pune', 'Delhi', 'Bihar']} \n",
        "\n",
        "df=pd.DataFrame(initial_data,columns=['First_name','Last_name','Age','City'])"
      ],
      "execution_count": 18,
      "outputs": []
    },
    {
      "cell_type": "code",
      "metadata": {
        "id": "FnMaciI1lG3D",
        "outputId": "f17a11cb-a752-4aa1-b85d-f0666a3ef86a",
        "colab": {
          "base_uri": "https://localhost:8080/",
          "height": 204
        }
      },
      "source": [
        "df"
      ],
      "execution_count": 19,
      "outputs": [
        {
          "output_type": "execute_result",
          "data": {
            "text/html": [
              "<div>\n",
              "<style scoped>\n",
              "    .dataframe tbody tr th:only-of-type {\n",
              "        vertical-align: middle;\n",
              "    }\n",
              "\n",
              "    .dataframe tbody tr th {\n",
              "        vertical-align: top;\n",
              "    }\n",
              "\n",
              "    .dataframe thead th {\n",
              "        text-align: right;\n",
              "    }\n",
              "</style>\n",
              "<table border=\"1\" class=\"dataframe\">\n",
              "  <thead>\n",
              "    <tr style=\"text-align: right;\">\n",
              "      <th></th>\n",
              "      <th>First_name</th>\n",
              "      <th>Last_name</th>\n",
              "      <th>Age</th>\n",
              "      <th>City</th>\n",
              "    </tr>\n",
              "  </thead>\n",
              "  <tbody>\n",
              "    <tr>\n",
              "      <th>0</th>\n",
              "      <td>Ram</td>\n",
              "      <td>Kumar</td>\n",
              "      <td>42</td>\n",
              "      <td>Mumbai</td>\n",
              "    </tr>\n",
              "    <tr>\n",
              "      <th>1</th>\n",
              "      <td>Mohan</td>\n",
              "      <td>Sharma</td>\n",
              "      <td>52</td>\n",
              "      <td>Noida</td>\n",
              "    </tr>\n",
              "    <tr>\n",
              "      <th>2</th>\n",
              "      <td>Tina</td>\n",
              "      <td>Ali</td>\n",
              "      <td>36</td>\n",
              "      <td>Pune</td>\n",
              "    </tr>\n",
              "    <tr>\n",
              "      <th>3</th>\n",
              "      <td>Jeetu</td>\n",
              "      <td>Gandhi</td>\n",
              "      <td>21</td>\n",
              "      <td>Delhi</td>\n",
              "    </tr>\n",
              "    <tr>\n",
              "      <th>4</th>\n",
              "      <td>Meera</td>\n",
              "      <td>Kumari</td>\n",
              "      <td>23</td>\n",
              "      <td>Bihar</td>\n",
              "    </tr>\n",
              "  </tbody>\n",
              "</table>\n",
              "</div>"
            ],
            "text/plain": [
              "  First_name Last_name  Age    City\n",
              "0        Ram     Kumar   42  Mumbai\n",
              "1      Mohan    Sharma   52   Noida\n",
              "2       Tina       Ali   36    Pune\n",
              "3      Jeetu    Gandhi   21   Delhi\n",
              "4      Meera    Kumari   23   Bihar"
            ]
          },
          "metadata": {
            "tags": []
          },
          "execution_count": 19
        }
      ]
    },
    {
      "cell_type": "code",
      "metadata": {
        "id": "52eYVY6AlG0z"
      },
      "source": [
        "# Create new column using dictionary \n",
        "new_data = { \"Ram\":\"B.Com\", \n",
        "             \"Mohan\":\"IAS\", \n",
        "             \"Tina\":\"LLB\", \n",
        "             \"Jeetu\":\"B.Tech\", \n",
        "             \"Meera\":\"MBBS\" } \n",
        "  "
      ],
      "execution_count": 20,
      "outputs": []
    },
    {
      "cell_type": "code",
      "metadata": {
        "id": "T2qckwOvlGzI",
        "outputId": "45b1d980-cd7e-49ad-d17c-8d2a5ebb06ea",
        "colab": {
          "base_uri": "https://localhost:8080/",
          "height": 204
        }
      },
      "source": [
        "# Combine the new data with  the existing frame work\n",
        "df['Qualification']=df['First_name'].map(new_data)\n",
        "#df.drop(['Qualificatio'],axis=1,inplace=True) ## droping of the one ofthe  column\n",
        "\n",
        "df"
      ],
      "execution_count": 21,
      "outputs": [
        {
          "output_type": "execute_result",
          "data": {
            "text/html": [
              "<div>\n",
              "<style scoped>\n",
              "    .dataframe tbody tr th:only-of-type {\n",
              "        vertical-align: middle;\n",
              "    }\n",
              "\n",
              "    .dataframe tbody tr th {\n",
              "        vertical-align: top;\n",
              "    }\n",
              "\n",
              "    .dataframe thead th {\n",
              "        text-align: right;\n",
              "    }\n",
              "</style>\n",
              "<table border=\"1\" class=\"dataframe\">\n",
              "  <thead>\n",
              "    <tr style=\"text-align: right;\">\n",
              "      <th></th>\n",
              "      <th>First_name</th>\n",
              "      <th>Last_name</th>\n",
              "      <th>Age</th>\n",
              "      <th>City</th>\n",
              "      <th>Qualification</th>\n",
              "    </tr>\n",
              "  </thead>\n",
              "  <tbody>\n",
              "    <tr>\n",
              "      <th>0</th>\n",
              "      <td>Ram</td>\n",
              "      <td>Kumar</td>\n",
              "      <td>42</td>\n",
              "      <td>Mumbai</td>\n",
              "      <td>B.Com</td>\n",
              "    </tr>\n",
              "    <tr>\n",
              "      <th>1</th>\n",
              "      <td>Mohan</td>\n",
              "      <td>Sharma</td>\n",
              "      <td>52</td>\n",
              "      <td>Noida</td>\n",
              "      <td>IAS</td>\n",
              "    </tr>\n",
              "    <tr>\n",
              "      <th>2</th>\n",
              "      <td>Tina</td>\n",
              "      <td>Ali</td>\n",
              "      <td>36</td>\n",
              "      <td>Pune</td>\n",
              "      <td>LLB</td>\n",
              "    </tr>\n",
              "    <tr>\n",
              "      <th>3</th>\n",
              "      <td>Jeetu</td>\n",
              "      <td>Gandhi</td>\n",
              "      <td>21</td>\n",
              "      <td>Delhi</td>\n",
              "      <td>B.Tech</td>\n",
              "    </tr>\n",
              "    <tr>\n",
              "      <th>4</th>\n",
              "      <td>Meera</td>\n",
              "      <td>Kumari</td>\n",
              "      <td>23</td>\n",
              "      <td>Bihar</td>\n",
              "      <td>MBBS</td>\n",
              "    </tr>\n",
              "  </tbody>\n",
              "</table>\n",
              "</div>"
            ],
            "text/plain": [
              "  First_name Last_name  Age    City Qualification\n",
              "0        Ram     Kumar   42  Mumbai         B.Com\n",
              "1      Mohan    Sharma   52   Noida           IAS\n",
              "2       Tina       Ali   36    Pune           LLB\n",
              "3      Jeetu    Gandhi   21   Delhi        B.Tech\n",
              "4      Meera    Kumari   23   Bihar          MBBS"
            ]
          },
          "metadata": {
            "tags": []
          },
          "execution_count": 21
        }
      ]
    },
    {
      "cell_type": "code",
      "metadata": {
        "id": "mY_1CuIPlGvN",
        "outputId": "a9ff83c0-b949-40e8-9204-164672896153",
        "colab": {
          "base_uri": "https://localhost:8080/",
          "height": 204
        }
      },
      "source": [
        "df"
      ],
      "execution_count": 22,
      "outputs": [
        {
          "output_type": "execute_result",
          "data": {
            "text/html": [
              "<div>\n",
              "<style scoped>\n",
              "    .dataframe tbody tr th:only-of-type {\n",
              "        vertical-align: middle;\n",
              "    }\n",
              "\n",
              "    .dataframe tbody tr th {\n",
              "        vertical-align: top;\n",
              "    }\n",
              "\n",
              "    .dataframe thead th {\n",
              "        text-align: right;\n",
              "    }\n",
              "</style>\n",
              "<table border=\"1\" class=\"dataframe\">\n",
              "  <thead>\n",
              "    <tr style=\"text-align: right;\">\n",
              "      <th></th>\n",
              "      <th>First_name</th>\n",
              "      <th>Last_name</th>\n",
              "      <th>Age</th>\n",
              "      <th>City</th>\n",
              "      <th>Qualification</th>\n",
              "    </tr>\n",
              "  </thead>\n",
              "  <tbody>\n",
              "    <tr>\n",
              "      <th>0</th>\n",
              "      <td>Ram</td>\n",
              "      <td>Kumar</td>\n",
              "      <td>42</td>\n",
              "      <td>Mumbai</td>\n",
              "      <td>B.Com</td>\n",
              "    </tr>\n",
              "    <tr>\n",
              "      <th>1</th>\n",
              "      <td>Mohan</td>\n",
              "      <td>Sharma</td>\n",
              "      <td>52</td>\n",
              "      <td>Noida</td>\n",
              "      <td>IAS</td>\n",
              "    </tr>\n",
              "    <tr>\n",
              "      <th>2</th>\n",
              "      <td>Tina</td>\n",
              "      <td>Ali</td>\n",
              "      <td>36</td>\n",
              "      <td>Pune</td>\n",
              "      <td>LLB</td>\n",
              "    </tr>\n",
              "    <tr>\n",
              "      <th>3</th>\n",
              "      <td>Jeetu</td>\n",
              "      <td>Gandhi</td>\n",
              "      <td>21</td>\n",
              "      <td>Delhi</td>\n",
              "      <td>B.Tech</td>\n",
              "    </tr>\n",
              "    <tr>\n",
              "      <th>4</th>\n",
              "      <td>Meera</td>\n",
              "      <td>Kumari</td>\n",
              "      <td>23</td>\n",
              "      <td>Bihar</td>\n",
              "      <td>MBBS</td>\n",
              "    </tr>\n",
              "  </tbody>\n",
              "</table>\n",
              "</div>"
            ],
            "text/plain": [
              "  First_name Last_name  Age    City Qualification\n",
              "0        Ram     Kumar   42  Mumbai         B.Com\n",
              "1      Mohan    Sharma   52   Noida           IAS\n",
              "2       Tina       Ali   36    Pune           LLB\n",
              "3      Jeetu    Gandhi   21   Delhi        B.Tech\n",
              "4      Meera    Kumari   23   Bihar          MBBS"
            ]
          },
          "metadata": {
            "tags": []
          },
          "execution_count": 22
        }
      ]
    },
    {
      "cell_type": "code",
      "metadata": {
        "id": "cIfdpbpJlxb5",
        "outputId": "f315b52a-1000-4d6a-d3df-f3f2c47ea5fb",
        "colab": {
          "base_uri": "https://localhost:8080/",
          "height": 204
        }
      },
      "source": [
        "initial_datas = {'First_name': ['Ram', 'Mohan', 'Tina', 'Jeetu', 'Meera'],  \n",
        "                'Last_name': ['Kumar', 'Sharma', 'Ali', 'Gandhi', 'Kumari'],  \n",
        "                'Age': [42, 52, 36, 21, 23],  \n",
        "                'City': ['Mumbai', 'Noida', 'Pune', 'Delhi', 'Bihar']} \n",
        "  \n",
        "df = pd.DataFrame(initial_datas, columns = ['First_name', 'Last_name', \n",
        "                                                      'Age', 'City']) \n",
        "  \n",
        "# Create new column using dictionary \n",
        "new_data = { 0:\"Shyam\", \n",
        "             2:\"Riya\", \n",
        "             3:\"Jitender\" } \n",
        "  \n",
        "# combine this new data with existing DataFrame \n",
        "df[\"First_name\"].update(pd.Series(new_data))\n",
        "df"
      ],
      "execution_count": 23,
      "outputs": [
        {
          "output_type": "execute_result",
          "data": {
            "text/html": [
              "<div>\n",
              "<style scoped>\n",
              "    .dataframe tbody tr th:only-of-type {\n",
              "        vertical-align: middle;\n",
              "    }\n",
              "\n",
              "    .dataframe tbody tr th {\n",
              "        vertical-align: top;\n",
              "    }\n",
              "\n",
              "    .dataframe thead th {\n",
              "        text-align: right;\n",
              "    }\n",
              "</style>\n",
              "<table border=\"1\" class=\"dataframe\">\n",
              "  <thead>\n",
              "    <tr style=\"text-align: right;\">\n",
              "      <th></th>\n",
              "      <th>First_name</th>\n",
              "      <th>Last_name</th>\n",
              "      <th>Age</th>\n",
              "      <th>City</th>\n",
              "    </tr>\n",
              "  </thead>\n",
              "  <tbody>\n",
              "    <tr>\n",
              "      <th>0</th>\n",
              "      <td>Shyam</td>\n",
              "      <td>Kumar</td>\n",
              "      <td>42</td>\n",
              "      <td>Mumbai</td>\n",
              "    </tr>\n",
              "    <tr>\n",
              "      <th>1</th>\n",
              "      <td>Mohan</td>\n",
              "      <td>Sharma</td>\n",
              "      <td>52</td>\n",
              "      <td>Noida</td>\n",
              "    </tr>\n",
              "    <tr>\n",
              "      <th>2</th>\n",
              "      <td>Riya</td>\n",
              "      <td>Ali</td>\n",
              "      <td>36</td>\n",
              "      <td>Pune</td>\n",
              "    </tr>\n",
              "    <tr>\n",
              "      <th>3</th>\n",
              "      <td>Jitender</td>\n",
              "      <td>Gandhi</td>\n",
              "      <td>21</td>\n",
              "      <td>Delhi</td>\n",
              "    </tr>\n",
              "    <tr>\n",
              "      <th>4</th>\n",
              "      <td>Meera</td>\n",
              "      <td>Kumari</td>\n",
              "      <td>23</td>\n",
              "      <td>Bihar</td>\n",
              "    </tr>\n",
              "  </tbody>\n",
              "</table>\n",
              "</div>"
            ],
            "text/plain": [
              "  First_name Last_name  Age    City\n",
              "0      Shyam     Kumar   42  Mumbai\n",
              "1      Mohan    Sharma   52   Noida\n",
              "2       Riya       Ali   36    Pune\n",
              "3   Jitender    Gandhi   21   Delhi\n",
              "4      Meera    Kumari   23   Bihar"
            ]
          },
          "metadata": {
            "tags": []
          },
          "execution_count": 23
        }
      ]
    },
    {
      "cell_type": "code",
      "metadata": {
        "id": "2qaGXiP8lxlE"
      },
      "source": [
        ""
      ],
      "execution_count": 23,
      "outputs": []
    },
    {
      "cell_type": "code",
      "metadata": {
        "id": "KhiHrTmplx6w"
      },
      "source": [
        ""
      ],
      "execution_count": 23,
      "outputs": []
    },
    {
      "cell_type": "code",
      "metadata": {
        "id": "imea_-Ymlx5K"
      },
      "source": [
        ""
      ],
      "execution_count": 23,
      "outputs": []
    },
    {
      "cell_type": "code",
      "metadata": {
        "id": "iFaSuCoilx3C"
      },
      "source": [
        ""
      ],
      "execution_count": 23,
      "outputs": []
    },
    {
      "cell_type": "code",
      "metadata": {
        "id": "LmMuVTQtlx0c"
      },
      "source": [
        ""
      ],
      "execution_count": 23,
      "outputs": []
    },
    {
      "cell_type": "code",
      "metadata": {
        "id": "KZBhBt-Ulxyp"
      },
      "source": [
        ""
      ],
      "execution_count": 23,
      "outputs": []
    },
    {
      "cell_type": "code",
      "metadata": {
        "id": "LJmhBgy3lxwK"
      },
      "source": [
        ""
      ],
      "execution_count": 23,
      "outputs": []
    },
    {
      "cell_type": "code",
      "metadata": {
        "id": "A1FjS7MblxuS"
      },
      "source": [
        ""
      ],
      "execution_count": 23,
      "outputs": []
    },
    {
      "cell_type": "code",
      "metadata": {
        "id": "heF8KPcXlxtD"
      },
      "source": [
        ""
      ],
      "execution_count": 23,
      "outputs": []
    },
    {
      "cell_type": "code",
      "metadata": {
        "id": "XCPtaNlHlxrr"
      },
      "source": [
        ""
      ],
      "execution_count": 23,
      "outputs": []
    },
    {
      "cell_type": "code",
      "metadata": {
        "id": "dWDIV3BllxqD"
      },
      "source": [
        ""
      ],
      "execution_count": 23,
      "outputs": []
    },
    {
      "cell_type": "code",
      "metadata": {
        "id": "eWav0Q8Slxi0"
      },
      "source": [
        ""
      ],
      "execution_count": 23,
      "outputs": []
    },
    {
      "cell_type": "code",
      "metadata": {
        "id": "4YtKuv9klxhq"
      },
      "source": [
        ""
      ],
      "execution_count": 23,
      "outputs": []
    },
    {
      "cell_type": "code",
      "metadata": {
        "id": "XCbtgZ4Jlxft"
      },
      "source": [
        ""
      ],
      "execution_count": 23,
      "outputs": []
    },
    {
      "cell_type": "code",
      "metadata": {
        "id": "Qa0z9JYQlxYw"
      },
      "source": [
        ""
      ],
      "execution_count": 23,
      "outputs": []
    }
  ]
}